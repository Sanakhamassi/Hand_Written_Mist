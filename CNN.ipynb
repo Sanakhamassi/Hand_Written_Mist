{
 "cells": [
  {
   "cell_type": "markdown",
   "id": "7134c7b5",
   "metadata": {},
   "source": [
    "# Tp Indexation"
   ]
  },
  {
   "cell_type": "code",
   "execution_count": 1,
   "id": "47275c8a",
   "metadata": {},
   "outputs": [],
   "source": [
    "#importation des bib\n",
    "import numpy as np\n",
    "import matplotlib.pyplot as plt\n",
    "from tensorflow.keras.datasets import mnist\n",
    "from sklearn.metrics import confusion_matrix,classification_report\n",
    "import scikitplot as skplt\n",
    "from tensorflow.keras.utils import to_categorical\n",
    "from tensorflow.keras.models import Sequential,Model\n",
    "from tensorflow.keras.layers import Input, InputLayer,Reshape,Conv2D,MaxPooling2D,Dense, Flatten\n",
    "from tensorflow.keras.layers import Dense, Dropout, Activation \n",
    "nb_classes=10\n"
   ]
  },
  {
   "cell_type": "code",
   "execution_count": 2,
   "id": "378dd1ea",
   "metadata": {},
   "outputs": [
    {
     "name": "stdout",
     "output_type": "stream",
     "text": [
      "Taille de:\n",
      "- Ensemble d'apprentissage: (60000, 28, 28)\n",
      "- Ensemble de test: (10000, 28, 28)\n"
     ]
    }
   ],
   "source": [
    "#Charger les données de « MNIST »\n",
    "(X_train, y_train), (X_test, y_test) = mnist.load_data()\n",
    "print(\"Taille de:\")\n",
    "print(\"- Ensemble d'apprentissage:\",format(X_train.shape))\n",
    "print(\"- Ensemble de test:\",format(X_test.shape))"
   ]
  },
  {
   "cell_type": "code",
   "execution_count": 3,
   "id": "eda70ce0",
   "metadata": {},
   "outputs": [
    {
     "data": {
      "image/png": "[encoded data removed]",
      "text/plain": [
       "<Figure size 432x288 with 9 Axes>"
      ]
     },
     "metadata": {
      "needs_background": "light"
     },
     "output_type": "display_data"
    }
   ],
   "source": [
    "for i in range(9):\n",
    "    plt.subplot(3,3,i+1)\n",
    "    plt.imshow(X_train[i], cmap='gray',interpolation='none')\n",
    "    plt.subplots_adjust(hspace=1,wspace=0.5)\n",
    "    plt.title(\"Class {}\".format(y_train[i]))"
   ]
  },
  {
   "cell_type": "code",
   "execution_count": 4,
   "id": "c9defc66",
   "metadata": {},
   "outputs": [
    {
     "name": "stdout",
     "output_type": "stream",
     "text": [
      "2\n",
      "[0. 0. 1. 0. 0. 0. 0. 0. 0. 0.]\n"
     ]
    }
   ],
   "source": [
    "# Prétraitement des données\n",
    "X_train = X_train.reshape(60000, 784)\n",
    "X_test = X_test.reshape(10000, 784)\n",
    "X_train = X_train.astype('float32')\n",
    "X_test = X_test.astype('float32')\n",
    "X_train /= 255\n",
    "X_test /= 255\n",
    "Y_train = to_categorical(y_train, nb_classes)\n",
    "Y_test = to_categorical(y_test, nb_classes)\n",
    "print(y_test[1])\n",
    "print(Y_test[1])"
   ]
  },
  {
   "cell_type": "code",
   "execution_count": 5,
   "id": "3d74879b",
   "metadata": {},
   "outputs": [
    {
     "name": "stdout",
     "output_type": "stream",
     "text": [
      "Model: \"sequential\"\n",
      "_________________________________________________________________\n",
      " Layer (type)                Output Shape              Param #   \n",
      "=================================================================\n",
      " reshape (Reshape)           (None, 28, 28, 1)         0         \n",
      "                                                                 \n",
      " layer_conv1 (Conv2D)        (None, 28, 28, 16)        416       \n",
      "                                                                 \n",
      " max_pooling2d (MaxPooling2  (None, 14, 14, 16)        0         \n",
      " D)                                                              \n",
      "                                                                 \n",
      " layer_conv2 (Conv2D)        (None, 14, 14, 36)        14436     \n",
      "                                                                 \n",
      " max_pooling2d_1 (MaxPoolin  (None, 7, 7, 36)          0         \n",
      " g2D)                                                            \n",
      "                                                                 \n",
      " flatten (Flatten)           (None, 1764)              0         \n",
      "                                                                 \n",
      " dense (Dense)               (None, 128)               225920    \n",
      "                                                                 \n",
      " dense_1 (Dense)             (None, 10)                1290      \n",
      "                                                                 \n",
      "=================================================================\n",
      "Total params: 242062 (945.55 KB)\n",
      "Trainable params: 242062 (945.55 KB)\n",
      "Non-trainable params: 0 (0.00 Byte)\n",
      "_________________________________________________________________\n"
     ]
    }
   ],
   "source": [
    "img_shape_full = (28, 28, 1)\n",
    "# Commencer la construction du modèle séquentiel de Keras.\n",
    "model=Sequential()\n",
    "# Ajouter une couche d'entrée qui doit être un tuple contenant la taille de l'image. \n",
    "model.add(InputLayer (input_shape=(784,)))\n",
    "# L'entrée est un vecteur de 784 éléments,\n",
    "# mais les couches convolutionnelles attendent des images avec forme (28, 28, 1)\n",
    "model.add(Reshape(img_shape_full))\n",
    "# Première couche convolutionnelle avec activation ReLU et max-pooling.\n",
    "model.add(Conv2D(kernel_size=5, strides=1, filters=16, padding='same', activation='relu', name='layer_conv1'))\n",
    "model.add(MaxPooling2D(pool_size=2, strides=2))\n",
    "# Deuxième couche convolutionnelle avec activation ReLU et max-pooling.\n",
    "model.add(Conv2D (kernel_size=5, strides=1, filters=36, padding='same', activation='relu', name='layer_conv2'))\n",
    "model.add(MaxPooling2D(pool_size=2, strides=2))\n",
    "model.add(Flatten())\n",
    "#fully-connected / dense layer avec ReLU.\n",
    "model.add(Dense (128, activation='relu'))\n",
    "# derniére fully-connected / dense avec softmax-activation pour la classification model.add(Dense (nb_classes, activation='softmax'))\n",
    "model.add(Dense (nb_classes, activation='softmax')) \n",
    "model.summary()"
   ]
  },
  {
   "cell_type": "code",
   "execution_count": 6,
   "id": "de042d28",
   "metadata": {},
   "outputs": [
    {
     "name": "stdout",
     "output_type": "stream",
     "text": [
      "Epoch 1/10\n",
      "469/469 [==============================] - 33s 68ms/step - loss: 0.2149 - accuracy: 0.9372\n",
      "Epoch 2/10\n",
      "469/469 [==============================] - 32s 67ms/step - loss: 0.0589 - accuracy: 0.9818\n",
      "Epoch 3/10\n",
      "469/469 [==============================] - 32s 69ms/step - loss: 0.0408 - accuracy: 0.9869\n",
      "Epoch 4/10\n",
      "469/469 [==============================] - 31s 66ms/step - loss: 0.0314 - accuracy: 0.9903\n",
      "Epoch 5/10\n",
      "469/469 [==============================] - 33s 71ms/step - loss: 0.0245 - accuracy: 0.9919\n",
      "Epoch 6/10\n",
      "469/469 [==============================] - 33s 70ms/step - loss: 0.0187 - accuracy: 0.9942\n",
      "Epoch 7/10\n",
      "469/469 [==============================] - 33s 71ms/step - loss: 0.0163 - accuracy: 0.9947\n",
      "Epoch 8/10\n",
      "469/469 [==============================] - 29s 62ms/step - loss: 0.0133 - accuracy: 0.9956\n",
      "Epoch 9/10\n",
      "469/469 [==============================] - 29s 62ms/step - loss: 0.0106 - accuracy: 0.9965\n",
      "Epoch 10/10\n",
      "469/469 [==============================] - 30s 63ms/step - loss: 0.0105 - accuracy: 0.9966\n"
     ]
    },
    {
     "data": {
      "text/plain": [
       "<keras.src.callbacks.History at 0x17617c3c760>"
      ]
     },
     "execution_count": 6,
     "metadata": {},
     "output_type": "execute_result"
    }
   ],
   "source": [
    "model.compile(loss='categorical_crossentropy',metrics=['accuracy'],optimizer='adam')\n",
    "model.fit(X_train, Y_train,batch_size=128, epochs=10,verbose=1)"
   ]
  },
  {
   "cell_type": "code",
   "execution_count": 7,
   "id": "3f28219c",
   "metadata": {},
   "outputs": [
    {
     "name": "stdout",
     "output_type": "stream",
     "text": [
      "313/313 [==============================] - 2s 5ms/step - loss: 0.0257 - accuracy: 0.9914\n",
      "loss 0.02567627839744091\n",
      "accuracy 0.9914000034332275\n"
     ]
    }
   ],
   "source": [
    "score = model.evaluate(X_test, Y_test, verbose=1)\n",
    "\n",
    "for name, value in zip(model.metrics_names, score):\n",
    "\n",
    "    print(name, value)"
   ]
  },
  {
   "cell_type": "code",
   "execution_count": 12,
   "id": "b070d697",
   "metadata": {},
   "outputs": [
    {
     "name": "stdout",
     "output_type": "stream",
     "text": [
      "313/313 [==============================] - 2s 5ms/step\n"
     ]
    },
    {
     "data": {
      "image/png": "[encoded data removed]",
      "text/plain": [
       "<Figure size 432x288 with 9 Axes>"
      ]
     },
     "metadata": {
      "needs_background": "light"
     },
     "output_type": "display_data"
    }
   ],
   "source": [
    "predicted_probabilities = model.predict(X_test)\n",
    "predicted_classes = np.argmax(predicted_probabilities, axis=1)\n",
    "correct_indices = np.nonzero(predicted_classes == y_test)[0]\n",
    "incorrect_indices = np.nonzero(predicted_classes != y_test)[0]\n",
    "plt.figure()\n",
    "for i, incorrect in enumerate(incorrect_indices[:9]):\n",
    "    plt.subplot(3,3,i+1)\n",
    "    plt.imshow(X_test[incorrect].reshape(28,28), cmap='gray',\n",
    "    interpolation='none')\n",
    "    plt.subplots_adjust(hspace=1, wspace=1.5)\n",
    "\n",
    "    plt.title(\"Predicted {}, Class {}\".format(predicted_classes[incorrect],\n",
    "    y_test[incorrect]))"
   ]
  },
  {
   "cell_type": "code",
   "execution_count": 9,
   "id": "dc2b2b8b",
   "metadata": {},
   "outputs": [
    {
     "data": {
      "image/png": "[encoded data removed]",
      "text/plain": [
       "<Figure size 432x288 with 2 Axes>"
      ]
     },
     "metadata": {
      "needs_background": "light"
     },
     "output_type": "display_data"
    }
   ],
   "source": [
    "import scikitplot as skplt\n",
    "\n",
    "skplt.metrics.plot_confusion_matrix(y_test, predicted_classes,normalize=False)\n",
    "\n",
    "plt.show()"
   ]
  },
  {
   "cell_type": "code",
   "execution_count": 10,
   "id": "e0eabfd9",
   "metadata": {},
   "outputs": [
    {
     "name": "stdout",
     "output_type": "stream",
     "text": [
      "[[ 973    0    0    0    0    1    2    3    1    0]\n",
      " [   0 1130    0    1    0    0    0    3    1    0]\n",
      " [   1    0 1024    0    0    0    0    7    0    0]\n",
      " [   0    0    1 1004    0    3    0    1    0    1]\n",
      " [   0    0    1    0  971    0    0    0    0   10]\n",
      " [   1    0    0    4    0  885    1    0    0    1]\n",
      " [   4    3    0    1    1    1  946    0    2    0]\n",
      " [   0    2    4    0    0    0    0 1020    1    1]\n",
      " [   2    0    3    2    0    3    0    0  962    2]\n",
      " [   0    0    1    0    2    5    0    2    0  999]]\n"
     ]
    }
   ],
   "source": [
    "print (confusion_matrix(y_test, predicted_classes))"
   ]
  },
  {
   "cell_type": "code",
   "execution_count": 11,
   "id": "4cb12684",
   "metadata": {},
   "outputs": [
    {
     "name": "stdout",
     "output_type": "stream",
     "text": [
      "              precision    recall  f1-score   support\n",
      "\n",
      "           0       0.99      0.99      0.99       980\n",
      "           1       1.00      1.00      1.00      1135\n",
      "           2       0.99      0.99      0.99      1032\n",
      "           3       0.99      0.99      0.99      1010\n",
      "           4       1.00      0.99      0.99       982\n",
      "           5       0.99      0.99      0.99       892\n",
      "           6       1.00      0.99      0.99       958\n",
      "           7       0.98      0.99      0.99      1028\n",
      "           8       0.99      0.99      0.99       974\n",
      "           9       0.99      0.99      0.99      1009\n",
      "\n",
      "    accuracy                           0.99     10000\n",
      "   macro avg       0.99      0.99      0.99     10000\n",
      "weighted avg       0.99      0.99      0.99     10000\n",
      "\n"
     ]
    }
   ],
   "source": [
    "print (classification_report(y_test, predicted_classes,target_names=None))"
   ]
  },
  {
   "cell_type": "code",
   "execution_count": null,
   "id": "38aa973c",
   "metadata": {},
   "outputs": [],
   "source": []
  }
 ],
 "metadata": {
  "kernelspec": {
   "display_name": "Python 3 (ipykernel)",
   "language": "python",
   "name": "python3"
  },
  "language_info": {
   "codemirror_mode": {
    "name": "ipython",
    "version": 3
   },
   "file_extension": ".py",
   "mimetype": "text/x-python",
   "name": "python",
   "nbconvert_exporter": "python",
   "pygments_lexer": "ipython3",
   "version": "3.10.2"
  }
 },
 "nbformat": 4,
 "nbformat_minor": 5
}
